{
 "cells": [
  {
   "cell_type": "code",
   "execution_count": 90,
   "metadata": {},
   "outputs": [
    {
     "name": "stdout",
     "output_type": "stream",
     "text": [
      "600\n"
     ]
    }
   ],
   "source": [
    "a = 30\n",
    "b = 20\n",
    "c = a * b\n",
    "if c > 1000:\n",
    "    print(a + b)\n",
    "else:\n",
    "    print(c)"
   ]
  },
  {
   "cell_type": "code",
   "execution_count": 91,
   "metadata": {},
   "outputs": [
    {
     "name": "stdout",
     "output_type": "stream",
     "text": [
      "First Number: 30\n",
      "Second Number: 20\n",
      "600\n"
     ]
    }
   ],
   "source": [
    "a = int(input(\"First Number: \"))\n",
    "b = int(input(\"Second Number: \"))\n",
    "c = a * b\n",
    "if c > 1000:\n",
    "    print(a + b)\n",
    "else:\n",
    "    print(c)"
   ]
  },
  {
   "cell_type": "code",
   "execution_count": 92,
   "metadata": {},
   "outputs": [
    {
     "name": "stdout",
     "output_type": "stream",
     "text": [
      "printing current and previous number sum in a range(10)\n",
      "Current Number 0 and Previous Number 0  Sum is: 0\n",
      "Current Number 1 and Previous Number 0  Sum is: 1\n",
      "Current Number 2 and Previous Number 1  Sum is: 3\n",
      "Current Number 3 and Previous Number 2  Sum is: 5\n",
      "Current Number 4 and Previous Number 3  Sum is: 7\n",
      "Current Number 5 and Previous Number 4  Sum is: 9\n",
      "Current Number 6 and Previous Number 5  Sum is: 11\n",
      "Current Number 7 and Previous Number 6  Sum is: 13\n",
      "Current Number 8 and Previous Number 7  Sum is: 15\n",
      "Current Number 9 and Previous Number 8  Sum is: 17\n"
     ]
    }
   ],
   "source": [
    "print(\"printing current and previous number sum in a range(10)\")\n",
    "Previous_Number = 0\n",
    "for x in range(10):\n",
    "    sum = Previous_Number + x\n",
    "    print(\"Current Number\", x, \"and Previous Number\", Previous_Number, \" Sum is:\", sum)\n",
    "    Previous_Number = x"
   ]
  },
  {
   "cell_type": "code",
   "execution_count": 93,
   "metadata": {},
   "outputs": [
    {
     "name": "stdout",
     "output_type": "stream",
     "text": [
      "p\n",
      "n\n",
      "t\n",
      "v\n"
     ]
    }
   ],
   "source": [
    "str = \"pynative\"\n",
    "for x in range(0, len(str)-1, 2):\n",
    "    print(str[x])"
   ]
  },
  {
   "cell_type": "code",
   "execution_count": 94,
   "metadata": {},
   "outputs": [
    {
     "name": "stdout",
     "output_type": "stream",
     "text": [
      "c\n",
      "e\n",
      "n\n",
      "s\n",
      "n\n",
      "l\n"
     ]
    }
   ],
   "source": [
    "str = 'chennasunil'\n",
    "for x in range(0,len(str), 2):\n",
    "    print(str[x])"
   ]
  },
  {
   "cell_type": "code",
   "execution_count": 95,
   "metadata": {},
   "outputs": [
    {
     "name": "stdout",
     "output_type": "stream",
     "text": [
      "s\n",
      "u\n",
      "n\n",
      "i\n",
      "l\n"
     ]
    }
   ],
   "source": [
    "str = 'chennasunil'\n",
    "n = 6\n",
    "for x in range(n, len(str)):\n",
    "    print(str[x])"
   ]
  },
  {
   "cell_type": "code",
   "execution_count": 96,
   "metadata": {},
   "outputs": [
    {
     "name": "stdout",
     "output_type": "stream",
     "text": [
      "sunil\n"
     ]
    }
   ],
   "source": [
    "str = 'chennasunil'\n",
    "n = 6\n",
    "print(str[n:])"
   ]
  },
  {
   "cell_type": "code",
   "execution_count": 97,
   "metadata": {},
   "outputs": [
    {
     "name": "stdout",
     "output_type": "stream",
     "text": [
      "Both Numbers are same\n"
     ]
    }
   ],
   "source": [
    "l = [10,20,30,40,50,10]\n",
    "if l[0] == l[-1]:\n",
    "    print(\"Both Numbers are same\")\n",
    "else:\n",
    "    print(\"Both Numbers are not equal\")"
   ]
  },
  {
   "cell_type": "code",
   "execution_count": 98,
   "metadata": {},
   "outputs": [
    {
     "name": "stdout",
     "output_type": "stream",
     "text": [
      "Both Numbers are not same\n"
     ]
    }
   ],
   "source": [
    "l = [10,20,30,40,50]\n",
    "if l[0] == l[-1]:\n",
    "    print(\"Both Numbers are same\")\n",
    "else:\n",
    "    print(\"Both Numbers are not same\")"
   ]
  },
  {
   "cell_type": "code",
   "execution_count": 99,
   "metadata": {},
   "outputs": [
    {
     "name": "stdout",
     "output_type": "stream",
     "text": [
      "10\n",
      "20\n",
      "30\n",
      "55\n",
      "90\n"
     ]
    }
   ],
   "source": [
    "l = [10,20,30,44,55,56,78,90]\n",
    "for x in l:\n",
    "    if (x % 5 == 0):\n",
    "        print(x)"
   ]
  },
  {
   "cell_type": "code",
   "execution_count": 100,
   "metadata": {},
   "outputs": [
    {
     "name": "stdout",
     "output_type": "stream",
     "text": [
      "10\n",
      "20\n",
      "30\n",
      "40\n",
      "50\n"
     ]
    }
   ],
   "source": [
    "m = [10,20,30,40,50,44,77,88,99]\n",
    "for x in m:\n",
    "    if(x % 10 == 0):\n",
    "        print(x)"
   ]
  },
  {
   "cell_type": "code",
   "execution_count": 101,
   "metadata": {},
   "outputs": [
    {
     "data": {
      "text/plain": [
       "2"
      ]
     },
     "execution_count": 101,
     "metadata": {},
     "output_type": "execute_result"
    }
   ],
   "source": [
    "str = \"Emma is a singer and Emma is a developer\"\n",
    "str.count(\"Emma\")"
   ]
  },
  {
   "cell_type": "code",
   "execution_count": 102,
   "metadata": {},
   "outputs": [
    {
     "name": "stdout",
     "output_type": "stream",
     "text": [
      "2\n"
     ]
    }
   ],
   "source": [
    "str = \"Emma is a singer and Emma is a developer\"\n",
    "count = 0\n",
    "for x in range(len(str)-1):\n",
    "    count += str[x: x + 4] == \"Emma\"\n",
    "print(count)"
   ]
  },
  {
   "cell_type": "code",
   "execution_count": 103,
   "metadata": {},
   "outputs": [
    {
     "name": "stdout",
     "output_type": "stream",
     "text": [
      "1\n",
      "2\n",
      "1 3\n",
      "1 2 4\n",
      "1 2 3 5\n"
     ]
    }
   ],
   "source": [
    "for x in range(1,6):\n",
    "    for y in range(1,x-1):\n",
    "        print(y, end= \" \")\n",
    "    print(x)"
   ]
  },
  {
   "cell_type": "code",
   "execution_count": 134,
   "metadata": {},
   "outputs": [
    {
     "name": "stdout",
     "output_type": "stream",
     "text": [
      "0\n",
      "\n",
      "11\n",
      "\n",
      "222\n",
      "\n",
      "3333\n",
      "\n",
      "44444\n",
      "\n"
     ]
    }
   ],
   "source": [
    "for x in range(1,6):\n",
    "    for y in range(x):\n",
    "        print(x-1, end=\"\")\n",
    "    print(\"\\n\")"
   ]
  },
  {
   "cell_type": "code",
   "execution_count": 129,
   "metadata": {},
   "outputs": [
    {
     "name": "stdout",
     "output_type": "stream",
     "text": [
      "0\n",
      "1\n",
      "2\n",
      "3\n",
      "4\n",
      "5\n"
     ]
    }
   ],
   "source": [
    "for x in range(6):\n",
    "    print(x)"
   ]
  },
  {
   "cell_type": "code",
   "execution_count": 138,
   "metadata": {},
   "outputs": [
    {
     "name": "stdout",
     "output_type": "stream",
     "text": [
      "original number 121\n",
      "The original and reverse number is the same: True\n"
     ]
    }
   ],
   "source": [
    "def reverseCheck(number):\n",
    "    print(\"original number\", number)\n",
    "    originalNum = number\n",
    "    reverseNum = 0\n",
    "    while (number > 0):\n",
    "        reminder = number % 10\n",
    "        reverseNum = (reverseNum * 10) + reminder\n",
    "        number = number // 10\n",
    "    if (originalNum == reverseNum):\n",
    "        return True\n",
    "    else:\n",
    "        return False\n",
    "\n",
    "print(\"The original and reverse number is the same:\", reverseCheck(121))"
   ]
  },
  {
   "cell_type": "code",
   "execution_count": 150,
   "metadata": {},
   "outputs": [
    {
     "name": "stdout",
     "output_type": "stream",
     "text": [
      "[5, 67, 97, 11, 13, 15, 17, 12, 14, 16, 18, 20]\n"
     ]
    }
   ],
   "source": [
    "L1 = [5,67,8,97,10,11,13,15,17,20,22,24]\n",
    "L2 = [12,14,16,18,20,21,223,27,29,31,33]\n",
    "L3 = []\n",
    "for x in L1:\n",
    "    if x % 2 == 1:\n",
    "        L3.append(x)\n",
    "for x in L2:\n",
    "    if x % 2 == 0:\n",
    "        L3.append(x)\n",
    "print(L3)"
   ]
  },
  {
   "cell_type": "code",
   "execution_count": 153,
   "metadata": {},
   "outputs": [
    {
     "name": "stdout",
     "output_type": "stream",
     "text": [
      "123456789"
     ]
    }
   ],
   "source": [
    "n = 987654321\n",
    "while (n > 0):\n",
    "    digit = n % 10\n",
    "    n = n // 10\n",
    "    print(digit, end= \"\")"
   ]
  },
  {
   "cell_type": "code",
   "execution_count": 154,
   "metadata": {},
   "outputs": [
    {
     "name": "stdout",
     "output_type": "stream",
     "text": [
      "5170400377"
     ]
    }
   ],
   "source": [
    "n = 7730040715\n",
    "while (n > 0):\n",
    "    digit = n % 10\n",
    "    n = n // 10\n",
    "    print(digit, end= \"\")"
   ]
  },
  {
   "cell_type": "code",
   "execution_count": 156,
   "metadata": {},
   "outputs": [
    {
     "name": "stdout",
     "output_type": "stream",
     "text": [
      "Given income 45000\n",
      "Total tax to pay is 6000.0\n"
     ]
    }
   ],
   "source": [
    "income = 45000\n",
    "taxPayable = 0\n",
    "print(\"Given income\", income)\n",
    "\n",
    "if income <= 10000:\n",
    "    taxPayable = 0\n",
    "elif income <= 20000:\n",
    "    taxPayable = (income - 10000) * 10 / 100\n",
    "else:\n",
    "    # first 10,000\n",
    "    taxPayable = 0\n",
    "\n",
    "    # next 10,000\n",
    "    taxPayable = 10000 * 10 / 100\n",
    "\n",
    "    # remaining\n",
    "    taxPayable += (income - 20000) * 20 / 100\n",
    "\n",
    "print(\"Total tax to pay is\", taxPayable)"
   ]
  },
  {
   "cell_type": "code",
   "execution_count": 157,
   "metadata": {},
   "outputs": [
    {
     "name": "stdout",
     "output_type": "stream",
     "text": [
      "1 2 3 4 5 6 7 8 9 10 \t\t\n",
      "2 4 6 8 10 12 14 16 18 20 \t\t\n",
      "3 6 9 12 15 18 21 24 27 30 \t\t\n",
      "4 8 12 16 20 24 28 32 36 40 \t\t\n",
      "5 10 15 20 25 30 35 40 45 50 \t\t\n",
      "6 12 18 24 30 36 42 48 54 60 \t\t\n",
      "7 14 21 28 35 42 49 56 63 70 \t\t\n",
      "8 16 24 32 40 48 56 64 72 80 \t\t\n",
      "9 18 27 36 45 54 63 72 81 90 \t\t\n",
      "10 20 30 40 50 60 70 80 90 100 \t\t\n"
     ]
    }
   ],
   "source": [
    "for x in range(1,11):\n",
    "    for y in range(1,11):\n",
    "        print(x * y, end=\" \")\n",
    "    print(\"\\t\\t\")"
   ]
  },
  {
   "cell_type": "code",
   "execution_count": 158,
   "metadata": {},
   "outputs": [
    {
     "name": "stdout",
     "output_type": "stream",
     "text": [
      "* * * * *  \n",
      "* * * *  \n",
      "* * *  \n",
      "* *  \n",
      "*  \n"
     ]
    }
   ],
   "source": [
    "for x in range(6,1, -1):\n",
    "    for y in range(0, x-1):\n",
    "        print(\"*\", end=' ')\n",
    "    print(\" \")"
   ]
  },
  {
   "cell_type": "code",
   "execution_count": 1,
   "metadata": {},
   "outputs": [
    {
     "name": "stdout",
     "output_type": "stream",
     "text": [
      "3.8.5 (default, Sep  3 2020, 21:29:08) [MSC v.1916 64 bit (AMD64)]\n",
      "sys.version_info(major=3, minor=8, micro=5, releaselevel='final', serial=0)\n"
     ]
    }
   ],
   "source": [
    "import sys\n",
    "print(sys.version)\n",
    "print(sys.version_info)"
   ]
  },
  {
   "cell_type": "code",
   "execution_count": 3,
   "metadata": {},
   "outputs": [
    {
     "name": "stdout",
     "output_type": "stream",
     "text": [
      "First Name is: Chenna\n",
      "Last Name is: Sunil\n",
      "Reverse Name is: Hello Sunil Chenna\n"
     ]
    }
   ],
   "source": [
    "f_name = str(input(\"First Name is: \"))\n",
    "l_name = str(input(\"Last Name is: \"))\n",
    "r_name = print(\"Reverse Name is: Hello\", l_name, f_name)\n",
    "r_name"
   ]
  },
  {
   "cell_type": "code",
   "execution_count": 5,
   "metadata": {},
   "outputs": [
    {
     "name": "stdout",
     "output_type": "stream",
     "text": [
      "[1, 2, 3, 4, 5]\n",
      "(1, 2, 3, 4, 5)\n"
     ]
    }
   ],
   "source": [
    "n = 1,2,3,4,5\n",
    "print(list(n))\n",
    "print(tuple(n))"
   ]
  },
  {
   "cell_type": "code",
   "execution_count": 11,
   "metadata": {},
   "outputs": [
    {
     "name": "stdout",
     "output_type": "stream",
     "text": [
      "Red Yellow\n"
     ]
    }
   ],
   "source": [
    "color_list = [\"Red\",\"Green\",\"White\",\"Yellow\"]\n",
    "print(\"%s %s\"%(color_list[0],color_list[-1]))"
   ]
  },
  {
   "cell_type": "code",
   "execution_count": 14,
   "metadata": {},
   "outputs": [
    {
     "name": "stdout",
     "output_type": "stream",
     "text": [
      "First Number is: 2345\n",
      "Second Number is: 1000\n",
      "2345 is greater than 1000\n"
     ]
    }
   ],
   "source": [
    "a = int(input(\"First Number is: \"))\n",
    "b = int(input(\"Second Number is: \"))\n",
    "if (a > b):\n",
    "    print(a, \"is greater than\",b)\n",
    "else:\n",
    "    print(b, \"is greater than\",a)"
   ]
  },
  {
   "cell_type": "code",
   "execution_count": 18,
   "metadata": {},
   "outputs": [
    {
     "data": {
      "text/plain": [
       "120"
      ]
     },
     "execution_count": 18,
     "metadata": {},
     "output_type": "execute_result"
    }
   ],
   "source": [
    "def fact(n):\n",
    "    return 1 if (n == 1 or n == 0) else n * fact(n-1)\n",
    "num = 5\n",
    "fact(num) "
   ]
  },
  {
   "cell_type": "code",
   "execution_count": 21,
   "metadata": {},
   "outputs": [
    {
     "name": "stdout",
     "output_type": "stream",
     "text": [
      "30\n"
     ]
    }
   ],
   "source": [
    "n = 6\n",
    "if (n == 1 or n == 0):\n",
    "    print(1)\n",
    "else:\n",
    "    print(n * (n-1))"
   ]
  },
  {
   "cell_type": "code",
   "execution_count": 27,
   "metadata": {},
   "outputs": [
    {
     "name": "stdout",
     "output_type": "stream",
     "text": [
      "Enter a Factorial Number: 10\n",
      "Factorial of a Number is:  3628800\n"
     ]
    }
   ],
   "source": [
    "n = int(input(\"Enter a Factorial Number: \"))\n",
    "if n < 0:\n",
    "    print(0)\n",
    "elif (n == 1 or n == 0):\n",
    "    print(1)\n",
    "else:\n",
    "    fact = 1\n",
    "    while(n > 1):\n",
    "        fact = fact * n\n",
    "        n = n-1\n",
    "    print(\"Factorial of a Number is: \",fact)"
   ]
  },
  {
   "cell_type": "code",
   "execution_count": 34,
   "metadata": {},
   "outputs": [
    {
     "data": {
      "text/plain": [
       "27"
      ]
     },
     "execution_count": 34,
     "metadata": {},
     "output_type": "execute_result"
    }
   ],
   "source": [
    "num = int(input(\"Given Number is: \"))\n",
    "rem = 0\n",
    "while (num > 1):\n",
    "    rem = num % 10\n",
    "    new = num // 10\n",
    "    "
   ]
  },
  {
   "cell_type": "code",
   "execution_count": 37,
   "metadata": {},
   "outputs": [
    {
     "data": {
      "text/plain": [
       "6.236719999999999"
      ]
     },
     "execution_count": 37,
     "metadata": {},
     "output_type": "execute_result"
    }
   ],
   "source": [
    "pi = 3.182\n",
    "r = 1.4\n",
    "Area = pi * (r*r)\n",
    "Area"
   ]
  },
  {
   "cell_type": "code",
   "execution_count": null,
   "metadata": {},
   "outputs": [],
   "source": [
    "for x in range(1,101):\n",
    "    if x // 2 == "
   ]
  },
  {
   "cell_type": "code",
   "execution_count": 1,
   "metadata": {},
   "outputs": [
    {
     "name": "stdout",
     "output_type": "stream",
     "text": [
      "1\n",
      "2\n",
      "3\n",
      "4\n",
      "6\n",
      "12\n"
     ]
    }
   ],
   "source": [
    "n = 12\n",
    "for x in range(1, n+1):\n",
    "    if n % x == 0:\n",
    "        print(x)\n",
    "    "
   ]
  },
  {
   "cell_type": "code",
   "execution_count": 13,
   "metadata": {},
   "outputs": [
    {
     "name": "stdout",
     "output_type": "stream",
     "text": [
      "1\n",
      "23\n"
     ]
    }
   ],
   "source": [
    "n = 23\n",
    "for x in range(1, n+1):\n",
    "    if n % x == 0:\n",
    "        print(x)"
   ]
  },
  {
   "cell_type": "code",
   "execution_count": 15,
   "metadata": {},
   "outputs": [
    {
     "name": "stdout",
     "output_type": "stream",
     "text": [
      "15\n",
      "20\n"
     ]
    }
   ],
   "source": [
    "a = 20\n",
    "b = 15\n",
    "temp = a\n",
    "a = b\n",
    "b = temp\n",
    "print(a)\n",
    "print(b)"
   ]
  },
  {
   "cell_type": "code",
   "execution_count": 11,
   "metadata": {},
   "outputs": [
    {
     "name": "stdout",
     "output_type": "stream",
     "text": [
      "0\n",
      "1\n",
      "3\n",
      "5\n",
      "7\n",
      "9\n",
      "11\n",
      "13\n",
      "15\n",
      "17\n",
      "19\n"
     ]
    }
   ],
   "source": [
    "Previous_number = 0\n",
    "for x in range(0,11):\n",
    "    sum = x + Previous_number\n",
    "    Previous_number = x\n",
    "    print(sum)"
   ]
  },
  {
   "cell_type": "code",
   "execution_count": 18,
   "metadata": {},
   "outputs": [
    {
     "name": "stdout",
     "output_type": "stream",
     "text": [
      "p\n",
      "n\n",
      "t\n",
      "v\n"
     ]
    }
   ],
   "source": [
    "str = \"pynative\"\n",
    "for x in range(len(str)):\n",
    "    if x % 2 == 0:\n",
    "        print(str[x])"
   ]
  },
  {
   "cell_type": "code",
   "execution_count": 20,
   "metadata": {},
   "outputs": [
    {
     "name": "stdout",
     "output_type": "stream",
     "text": [
      "h\n",
      "n\n",
      "a\n",
      "s\n",
      "n\n",
      "l\n"
     ]
    }
   ],
   "source": [
    "str = \"chenna sunil\"\n",
    "for x in range(len(str)):\n",
    "    if x % 2 != 0:\n",
    "        print(str[x])"
   ]
  },
  {
   "cell_type": "code",
   "execution_count": 23,
   "metadata": {},
   "outputs": [
    {
     "name": "stdout",
     "output_type": "stream",
     "text": [
      "True\n"
     ]
    }
   ],
   "source": [
    "L = [10,20,30,40,50,10]\n",
    "if L[0] == L[-1]:\n",
    "    print(\"True\")\n",
    "else:\n",
    "    print(\"False\")"
   ]
  },
  {
   "cell_type": "code",
   "execution_count": 24,
   "metadata": {},
   "outputs": [
    {
     "name": "stdout",
     "output_type": "stream",
     "text": [
      "10\n",
      "20\n",
      "55\n"
     ]
    }
   ],
   "source": [
    "L = [10, 20, 33, 46, 55]\n",
    "for x in L:\n",
    "    if x % 5 == 0:\n",
    "        print(x)"
   ]
  },
  {
   "cell_type": "code",
   "execution_count": 31,
   "metadata": {},
   "outputs": [
    {
     "name": "stdout",
     "output_type": "stream",
     "text": [
      "10\n",
      "20\n",
      "100\n",
      "50\n",
      "60\n",
      "70\n",
      "80\n"
     ]
    }
   ],
   "source": [
    "L = [10, 20, 33, 46,55,65,100,50,60,70,80]\n",
    "for x in L:\n",
    "    if x % 10 == 0:\n",
    "        print(x)"
   ]
  },
  {
   "cell_type": "code",
   "execution_count": 33,
   "metadata": {},
   "outputs": [
    {
     "data": {
      "text/plain": [
       "2"
      ]
     },
     "execution_count": 33,
     "metadata": {},
     "output_type": "execute_result"
    }
   ],
   "source": [
    "str = \"Emma is good developer. Emma is a writer\"\n",
    "str.count(\"Emma\")"
   ]
  },
  {
   "cell_type": "code",
   "execution_count": 36,
   "metadata": {},
   "outputs": [
    {
     "name": "stdout",
     "output_type": "stream",
     "text": [
      "* \n",
      "\n",
      "* * \n",
      "\n",
      "* * * \n",
      "\n",
      "* * * * \n",
      "\n",
      "* * * * * \n",
      "\n"
     ]
    }
   ],
   "source": [
    "for x in range(1,6):\n",
    "    for y in range(x):\n",
    "        print(\"*\", end=\" \")\n",
    "    print(\"\\n\")"
   ]
  },
  {
   "cell_type": "code",
   "execution_count": 57,
   "metadata": {},
   "outputs": [
    {
     "name": "stdout",
     "output_type": "stream",
     "text": [
      "original number 121\n",
      "The original and reverse number is the same: True\n"
     ]
    }
   ],
   "source": [
    "def reverseCheck(number):\n",
    "    print(\"original number\", number)\n",
    "    originalNum = number\n",
    "    reverseNum = 0\n",
    "    while (number > 0):\n",
    "        reminder = number % 10\n",
    "        reverseNum = (reverseNum * 10) + reminder\n",
    "        number = number // 10\n",
    "    if (originalNum == reverseNum):\n",
    "        return True\n",
    "    else:\n",
    "        return False\n",
    "\n",
    "print(\"The original and reverse number is the same:\", reverseCheck(121))"
   ]
  },
  {
   "cell_type": "code",
   "execution_count": 68,
   "metadata": {},
   "outputs": [
    {
     "name": "stdout",
     "output_type": "stream",
     "text": [
      "[23, 11, 17, 24, 36, 12]\n"
     ]
    }
   ],
   "source": [
    "list1 =  [10, 20, 23, 11, 17]\n",
    "list2 = [13, 43, 24, 36, 12]\n",
    "List3 = []\n",
    "for x in list1:\n",
    "    if x % 2 != 0:\n",
    "        List3.append(x)\n",
    "for x in list2:\n",
    "    if x % 2 == 0:\n",
    "        List3.append(x)\n",
    "print(List3)"
   ]
  },
  {
   "cell_type": "code",
   "execution_count": 83,
   "metadata": {},
   "outputs": [
    {
     "name": "stdout",
     "output_type": "stream",
     "text": [
      "6357\n",
      "Given number is same\n"
     ]
    }
   ],
   "source": [
    "n = 7536\n",
    "rev = 0\n",
    "while (n > 0):\n",
    "    rem = n % 10\n",
    "    rev = (rev * 10) + rem\n",
    "    n = n//10\n",
    "print(rev)\n",
    "if (rev == n):\n",
    "    print(\"Given number is not same\")\n",
    "else:\n",
    "    print(\"Given number is same\")"
   ]
  },
  {
   "cell_type": "code",
   "execution_count": 90,
   "metadata": {},
   "outputs": [
    {
     "name": "stdout",
     "output_type": "stream",
     "text": [
      "Enter a Number: 0\n",
      "Given number is zero\n"
     ]
    }
   ],
   "source": [
    "num = float(input(\"Enter a Number: \"))\n",
    "if num == 0:\n",
    "    print(\"Given number is zero\")\n",
    "elif num > 0:\n",
    "        print(\"Given number is positive\")\n",
    "else:\n",
    "    print(\"Given number is negative\")"
   ]
  },
  {
   "cell_type": "code",
   "execution_count": 96,
   "metadata": {},
   "outputs": [
    {
     "name": "stdout",
     "output_type": "stream",
     "text": [
      "Enter a Number:-2\n",
      "Number is even\n"
     ]
    }
   ],
   "source": [
    "num = int(input(\"Enter a Number:\"))\n",
    "if num % 2 == 0:\n",
    "    print(\"Number is even\")\n",
    "else:\n",
    "    print(\"Number is Odd\")\n",
    "    "
   ]
  },
  {
   "cell_type": "code",
   "execution_count": 99,
   "metadata": {},
   "outputs": [
    {
     "name": "stdout",
     "output_type": "stream",
     "text": [
      "Enter the First Number: 8000\n",
      "Enter the Second Number: 6000\n",
      "Enter the Third Number: 4000\n",
      "8000 is greater than remaining numbers\n"
     ]
    }
   ],
   "source": [
    "num1 = int(input(\"Enter the First Number: \"))\n",
    "num2 = int(input(\"Enter the Second Number: \"))\n",
    "num3 = int(input(\"Enter the Third Number: \"))\n",
    "if num1 > num2:\n",
    "    if num1 > num3:\n",
    "        print(\"{0} is greater than remaining numbers\".format(num1))\n",
    "if num2 > num1:\n",
    "    if num2 > num3:\n",
    "        print(\"{0} is greater than remaining numbers\".format(num2))\n",
    "if num3 > num1:\n",
    "    if num3 > num2:\n",
    "        print(\"{0} is greater than remaining numbers\".format(num3))"
   ]
  },
  {
   "cell_type": "code",
   "execution_count": 114,
   "metadata": {},
   "outputs": [
    {
     "name": "stdout",
     "output_type": "stream",
     "text": [
      "Enter a Number: 23\n",
      "Number is a prime number\n"
     ]
    }
   ],
   "source": [
    "num = int(input(\"Enter a Number: \"))\n",
    "if num > 1:\n",
    "    for x in range(2,num):\n",
    "        if num % x == 0:\n",
    "            print(\"Number is not a prime number\")\n",
    "            break\n",
    "    else:\n",
    "        print(\"Number is a prime number\")\n",
    "else:\n",
    "    print(\"Number is not a prime number\")"
   ]
  },
  {
   "cell_type": "code",
   "execution_count": 124,
   "metadata": {},
   "outputs": [
    {
     "name": "stdout",
     "output_type": "stream",
     "text": [
      "2\n",
      "3\n",
      "5\n",
      "7\n",
      "11\n",
      "13\n",
      "17\n",
      "19\n",
      "23\n",
      "29\n",
      "31\n",
      "37\n",
      "41\n",
      "43\n",
      "47\n",
      "53\n",
      "59\n",
      "61\n",
      "67\n",
      "71\n",
      "73\n",
      "79\n",
      "83\n",
      "89\n",
      "97\n"
     ]
    }
   ],
   "source": [
    "start = 1\n",
    "end = 100\n",
    "for num in range(start,end + 1):\n",
    "    if num > 1:\n",
    "        for x in range(2,num):\n",
    "            if num % x == 0:\n",
    "                break\n",
    "        else:\n",
    "            print(num) "
   ]
  },
  {
   "cell_type": "code",
   "execution_count": 137,
   "metadata": {},
   "outputs": [
    {
     "name": "stdout",
     "output_type": "stream",
     "text": [
      "Enter the Factorial Number: 5\n",
      "Factorial for a given number is:  120\n"
     ]
    }
   ],
   "source": [
    "num = int(input(\"Enter the Factorial Number: \"))\n",
    "factorial = 1\n",
    "for x in range(1, num + 1):\n",
    "    factorial = factorial * x\n",
    "print(\"Factorial for a given number is: \",factorial)"
   ]
  },
  {
   "cell_type": "code",
   "execution_count": 146,
   "metadata": {},
   "outputs": [
    {
     "name": "stdout",
     "output_type": "stream",
     "text": [
      "3 * 1 = 3\n",
      "3 * 2 = 6\n",
      "3 * 3 = 9\n",
      "3 * 4 = 12\n",
      "3 * 5 = 15\n",
      "3 * 6 = 18\n",
      "3 * 7 = 21\n",
      "3 * 8 = 24\n",
      "3 * 9 = 27\n",
      "3 * 10 = 30\n"
     ]
    }
   ],
   "source": [
    "num = 3\n",
    "for x in range(1,10+1):\n",
    "    print(num,\"*\",x,\"=\",num * x)"
   ]
  },
  {
   "cell_type": "code",
   "execution_count": null,
   "metadata": {},
   "outputs": [],
   "source": []
  },
  {
   "cell_type": "code",
   "execution_count": null,
   "metadata": {},
   "outputs": [],
   "source": []
  },
  {
   "cell_type": "code",
   "execution_count": null,
   "metadata": {},
   "outputs": [],
   "source": []
  },
  {
   "cell_type": "code",
   "execution_count": null,
   "metadata": {},
   "outputs": [],
   "source": []
  },
  {
   "cell_type": "code",
   "execution_count": null,
   "metadata": {},
   "outputs": [],
   "source": []
  },
  {
   "cell_type": "code",
   "execution_count": null,
   "metadata": {},
   "outputs": [],
   "source": []
  },
  {
   "cell_type": "code",
   "execution_count": null,
   "metadata": {},
   "outputs": [],
   "source": []
  },
  {
   "cell_type": "code",
   "execution_count": null,
   "metadata": {},
   "outputs": [],
   "source": []
  },
  {
   "cell_type": "code",
   "execution_count": null,
   "metadata": {},
   "outputs": [],
   "source": []
  },
  {
   "cell_type": "code",
   "execution_count": null,
   "metadata": {},
   "outputs": [],
   "source": []
  },
  {
   "cell_type": "code",
   "execution_count": null,
   "metadata": {},
   "outputs": [],
   "source": []
  },
  {
   "cell_type": "code",
   "execution_count": null,
   "metadata": {},
   "outputs": [],
   "source": []
  },
  {
   "cell_type": "code",
   "execution_count": null,
   "metadata": {},
   "outputs": [],
   "source": []
  },
  {
   "cell_type": "code",
   "execution_count": null,
   "metadata": {},
   "outputs": [],
   "source": []
  },
  {
   "cell_type": "code",
   "execution_count": null,
   "metadata": {},
   "outputs": [],
   "source": []
  },
  {
   "cell_type": "code",
   "execution_count": null,
   "metadata": {},
   "outputs": [],
   "source": []
  },
  {
   "cell_type": "code",
   "execution_count": null,
   "metadata": {},
   "outputs": [],
   "source": []
  },
  {
   "cell_type": "code",
   "execution_count": null,
   "metadata": {},
   "outputs": [],
   "source": []
  },
  {
   "cell_type": "code",
   "execution_count": null,
   "metadata": {},
   "outputs": [],
   "source": []
  },
  {
   "cell_type": "code",
   "execution_count": null,
   "metadata": {},
   "outputs": [],
   "source": []
  },
  {
   "cell_type": "code",
   "execution_count": null,
   "metadata": {},
   "outputs": [],
   "source": []
  },
  {
   "cell_type": "code",
   "execution_count": null,
   "metadata": {},
   "outputs": [],
   "source": []
  },
  {
   "cell_type": "code",
   "execution_count": null,
   "metadata": {},
   "outputs": [],
   "source": []
  },
  {
   "cell_type": "code",
   "execution_count": null,
   "metadata": {},
   "outputs": [],
   "source": []
  }
 ],
 "metadata": {
  "kernelspec": {
   "display_name": "Python 3",
   "language": "python",
   "name": "python3"
  },
  "language_info": {
   "codemirror_mode": {
    "name": "ipython",
    "version": 3
   },
   "file_extension": ".py",
   "mimetype": "text/x-python",
   "name": "python",
   "nbconvert_exporter": "python",
   "pygments_lexer": "ipython3",
   "version": "3.8.5"
  }
 },
 "nbformat": 4,
 "nbformat_minor": 4
}
